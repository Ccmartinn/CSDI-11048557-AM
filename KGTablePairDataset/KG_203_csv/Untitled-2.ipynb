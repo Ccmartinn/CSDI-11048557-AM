{
 "cells": [
  {
   "cell_type": "code",
   "execution_count": 1,
   "metadata": {},
   "outputs": [
    {
     "data": {
      "text/plain": [
       "'c:\\\\Users\\\\12787\\\\AppData\\\\Local\\\\Programs\\\\Microsoft VS Code'"
      ]
     },
     "execution_count": 1,
     "metadata": {},
     "output_type": "execute_result"
    }
   ],
   "source": [
    "import os\n",
    "os.getcwd()"
   ]
  },
  {
   "cell_type": "code",
   "execution_count": null,
   "metadata": {},
   "outputs": [],
   "source": [
    "import pandas as pd\n",
    "import openai\n",
    "from flask import Flask, request, jsonify\n",
    "\n",
    "# 读取 TSV 文件\n",
    "def read_table(file_path):\n",
    "    df = pd.read_csv(file_path, sep='\\t')\n",
    "    return df\n",
    "\n",
    "# 将表格数据转换为三元组\n",
    "def convert_table_to_triples(df):\n",
    "    triples = []\n",
    "    for _, row in df.iterrows():\n",
    "        triples.append((row['Entrant'], \"has Constructor\", row['Constructor']))\n",
    "        triples.append((row['Constructor'], \"uses Chassis\", row['Chassis']))\n",
    "        triples.append((row['Constructor'], \"uses Engine\", row['Engine']))\n",
    "        triples.append((row['Entrant'], \"has Driver\", row['Driver']))\n",
    "        triples.append((row['Driver'], \"has Car No\", str(row['No'])))\n",
    "    return triples\n",
    "\n",
    "# 使用大语言模型处理三元组\n",
    "def retrieve_triple_from_table(query, triples):\n",
    "    triples_description = \" | \".join([f\"({s}, {p}, {o})\" for s, p, o in triples])\n",
    "    prompt = f\"Given the following triples: {triples_description}\\nAnswer the query: {query}\"\n",
    "    \n",
    "    response = openai.Completion.create(\n",
    "        engine=\"text-davinci-003\",  # 使用适当的语言模型\n",
    "        prompt=prompt,\n",
    "        max_tokens=100,\n",
    "        temperature=0.5\n",
    "    )\n",
    "    \n",
    "    return response.choices[0].text.strip()\n",
    "\n",
    "# 初始化 Flask 应用\n",
    "app = Flask(__name__)\n",
    "\n",
    "# 定义 API 路由\n",
    "@app.route('/process', methods=['POST'])\n",
    "def process_query():\n",
    "    data = request.json\n",
    "    query = data['query']\n",
    "    \n",
    "    # 读取表格并转换为三元组\n",
    "    df = read_table('/mnt/data/1_table.tsv')  # 读取上传的文件\n",
    "    triples = convert_table_to_triples(df)\n",
    "    \n",
    "    # 使用大语言模型回答查询\n",
    "    result = retrieve_triple_from\n"
   ]
  }
 ],
 "metadata": {
  "kernelspec": {
   "display_name": "base",
   "language": "python",
   "name": "python3"
  },
  "language_info": {
   "codemirror_mode": {
    "name": "ipython",
    "version": 3
   },
   "file_extension": ".py",
   "mimetype": "text/x-python",
   "name": "python",
   "nbconvert_exporter": "python",
   "pygments_lexer": "ipython3",
   "version": "3.10.9"
  }
 },
 "nbformat": 4,
 "nbformat_minor": 2
}
