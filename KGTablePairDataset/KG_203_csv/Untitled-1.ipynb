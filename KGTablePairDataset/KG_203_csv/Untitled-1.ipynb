{
 "cells": [
  {
   "cell_type": "code",
   "execution_count": 14,
   "metadata": {},
   "outputs": [
    {
     "data": {
      "text/plain": [
       "''"
      ]
     },
     "execution_count": 14,
     "metadata": {},
     "output_type": "execute_result"
    }
   ],
   "source": [
    "class Solution:\n",
    "    def isValid(self, s: str) -> bool:\n",
    "        import re\n",
    "        pattern = r'\\{\\}\\[\\]\\(\\)'\n",
    "        \n",
    "        return re.search(s,pattern).group()\n",
    "\n",
    "solution = Solution()\n",
    "solution.isValid('()')"
   ]
  },
  {
   "cell_type": "code",
   "execution_count": 12,
   "metadata": {},
   "outputs": [
    {
     "data": {
      "text/plain": [
       "[2, 3, 4, 5, 6, 7, 8, 9]"
      ]
     },
     "execution_count": 12,
     "metadata": {},
     "output_type": "execute_result"
    }
   ],
   "source": [
    "list(range(2,10))"
   ]
  },
  {
   "cell_type": "code",
   "execution_count": 15,
   "metadata": {},
   "outputs": [
    {
     "data": {
      "text/plain": [
       "2"
      ]
     },
     "execution_count": 15,
     "metadata": {},
     "output_type": "execute_result"
    }
   ],
   "source": [
    "len('as')"
   ]
  },
  {
   "cell_type": "code",
   "execution_count": 16,
   "metadata": {},
   "outputs": [
    {
     "data": {
      "text/plain": [
       "'s'"
      ]
     },
     "execution_count": 16,
     "metadata": {},
     "output_type": "execute_result"
    }
   ],
   "source": [
    "'as'[1]"
   ]
  },
  {
   "cell_type": "code",
   "execution_count": 21,
   "metadata": {},
   "outputs": [
    {
     "data": {
      "text/plain": [
       "'fl'"
      ]
     },
     "execution_count": 21,
     "metadata": {},
     "output_type": "execute_result"
    }
   ],
   "source": [
    "class Solution:\n",
    "    def longestCommonPrefix(self, strs) -> str:\n",
    "        common = []\n",
    "        if len(strs) == 1:\n",
    "            return strs[0]\n",
    "\n",
    "        # add common items\n",
    "        for i in range(min(len(strs[0]),len(strs[1]))):\n",
    "            if strs[0][i] == strs[1][i]:\n",
    "                common.append(strs[0][i])\n",
    "            else:\n",
    "                break\n",
    "        \n",
    "        for i in range(2,len(strs)):\n",
    "            while len(common) != 0:\n",
    "                if len(strs[i]) < len(common) \\\n",
    "                    or strs[i][:len(common)] != ''.join(common):\n",
    "                    common.pop()\n",
    "                else:\n",
    "                    break\n",
    "        return ''.join(common)\n",
    "                \n",
    "\n",
    "    \n",
    "solution = Solution()\n",
    "solution.longestCommonPrefix([\"flower\",\"flow\",\"flight\"])"
   ]
  },
  {
   "cell_type": "code",
   "execution_count": 27,
   "metadata": {},
   "outputs": [],
   "source": [
    "List = list"
   ]
  },
  {
   "cell_type": "code",
   "execution_count": 30,
   "metadata": {},
   "outputs": [
    {
     "data": {
      "text/plain": [
       "5"
      ]
     },
     "execution_count": 30,
     "metadata": {},
     "output_type": "execute_result"
    }
   ],
   "source": [
    "class Solution:\n",
    "    def removeElement(self, nums: List[int], val: int) -> int:\n",
    "        lst = []\n",
    "        for i in range(len(nums)):\n",
    "            if nums[i] != val: \n",
    "                lst.append(nums[i])\n",
    "        return len(lst)\n",
    "    \n",
    "solution = Solution()\n",
    "solution.removeElement([0,1,2,2,3,0,4,2],2)"
   ]
  },
  {
   "cell_type": "code",
   "execution_count": 31,
   "metadata": {},
   "outputs": [
    {
     "data": {
      "text/plain": [
       "5"
      ]
     },
     "execution_count": 31,
     "metadata": {},
     "output_type": "execute_result"
    }
   ],
   "source": [
    "class Solution:\n",
    "    def removeElement(self, nums: List[int], val: int) -> int:\n",
    "        idx=0\n",
    "        for i in range(len(nums)):\n",
    "            if nums[i]==val:\n",
    "                nums[i]='_'\n",
    "            elif nums[i]!=val:\n",
    "                tmp = nums[idx]\n",
    "                nums[idx]=nums[i]\n",
    "                nums[i]=tmp\n",
    "                idx+=1\n",
    "        return idx\n",
    "    \n",
    "solution = Solution()\n",
    "solution.removeElement([0,1,2,2,3,0,4,2],2)"
   ]
  },
  {
   "cell_type": "code",
   "execution_count": 33,
   "metadata": {},
   "outputs": [
    {
     "ename": "IndexError",
     "evalue": "list index out of range",
     "output_type": "error",
     "traceback": [
      "\u001b[1;31m---------------------------------------------------------------------------\u001b[0m",
      "\u001b[1;31mIndexError\u001b[0m                                Traceback (most recent call last)",
      "Cell \u001b[1;32mIn[33], line 2\u001b[0m\n\u001b[0;32m      1\u001b[0m s \u001b[38;5;241m=\u001b[39m [\u001b[38;5;241m0\u001b[39m]\n\u001b[1;32m----> 2\u001b[0m \u001b[43ms\u001b[49m\u001b[43m[\u001b[49m\u001b[38;5;241;43m1\u001b[39;49m\u001b[43m]\u001b[49m\n",
      "\u001b[1;31mIndexError\u001b[0m: list index out of range"
     ]
    }
   ],
   "source": [
    "s = [0]\n",
    "s[1]"
   ]
  },
  {
   "cell_type": "code",
   "execution_count": null,
   "metadata": {},
   "outputs": [],
   "source": [
    "class Solution:\n",
    "    def merge(self, nums1: List[int], m: int, nums2: List[int], n: int) -> None:\n",
    "        \"\"\"\n",
    "        Do not return anything, modify nums1 in-place instead.\n",
    "        \"\"\"\n",
    "        nums1[m:] = [9999] * n\n",
    "        p2 = 0\n",
    "        temp = 9999999\n",
    "        for i in range(m+n):\n",
    "            for j in range(p2, n):\n",
    "                if temp < nums1[i]:\n",
    "                    temp2 = nums1[i]\n",
    "                    nums1[i] = temp\n",
    "                    temp = temp2\n",
    "\n",
    "                elif nums1[i] > nums2[j]:\n",
    "                    temp = nums1[i]\n",
    "                    nums1[i] = nums2[j]\n",
    "                    p2 = j\n",
    "                    continue\n",
    "\n",
    "solution = Solution()\n",
    "solution.removeElement([0,1,2,2,3,0,4,2],2)"
   ]
  },
  {
   "cell_type": "code",
   "execution_count": 34,
   "metadata": {},
   "outputs": [
    {
     "name": "stdout",
     "output_type": "stream",
     "text": [
      "1\n"
     ]
    }
   ],
   "source": [
    "from typing import List\n",
    "\n",
    "class Solution:\n",
    "    def merge(self, nums1: List[int], m: int, nums2: List[int], n: int) -> None:\n",
    "        \"\"\"\n",
    "        Do not return anything, modify nums1 in-place instead.\n",
    "        \"\"\"\n",
    "        return nums2[0]\n",
    "\n",
    "# 示例使用\n",
    "solution = Solution()\n",
    "nums2 = [1]\n",
    "print(solution.merge([0], 1, nums2, 1))  # 输出: 1"
   ]
  },
  {
   "cell_type": "code",
   "execution_count": 37,
   "metadata": {},
   "outputs": [
    {
     "data": {
      "text/plain": [
       "1"
      ]
     },
     "execution_count": 37,
     "metadata": {},
     "output_type": "execute_result"
    }
   ],
   "source": [
    "nums1 = [1,2,3,0,0,0]\n",
    "m = 3\n",
    "nums2 = [2,5,6]\n",
    "n = 3\n",
    "\n",
    "min(nums1[:3])"
   ]
  },
  {
   "cell_type": "code",
   "execution_count": 39,
   "metadata": {},
   "outputs": [
    {
     "data": {
      "text/plain": [
       "1"
      ]
     },
     "execution_count": 39,
     "metadata": {},
     "output_type": "execute_result"
    }
   ],
   "source": [
    "first_from_where = 0 if min(nums1[:m])> min(nums2) else 1\n",
    "first_from_where"
   ]
  },
  {
   "cell_type": "code",
   "execution_count": 53,
   "metadata": {},
   "outputs": [
    {
     "name": "stdout",
     "output_type": "stream",
     "text": [
      "out [0, 1]\n",
      "temp [0, 1]\n",
      "pos [1, 0]\n",
      "out [1, 2]\n",
      "temp [1, 2]\n",
      "pos [2, 0]\n",
      "out [1, 2]\n",
      "temp [1, 2]\n",
      "pos [2, 1]\n",
      "out [0, 2]\n",
      "temp [1, 2]\n",
      "pos [3, 1]\n",
      "out [0, 2]\n",
      "temp [1, 2]\n",
      "pos [4, 1]\n",
      "out [0, 2]\n",
      "temp [1, 2]\n",
      "pos [5, 1]\n"
     ]
    }
   ],
   "source": [
    "class Solution:\n",
    "    def merge(self, nums1: List[int], m: int, nums2: List[int], n: int) -> None:\n",
    "        pos = [0,0]\n",
    "        first_from_where = 1 if nums1[0]> nums2[0] else 0\n",
    "        temp = [first_from_where,min(nums1[0],nums2[0])]\n",
    "        for i in range(m+n):\n",
    "            if nums1[pos[0]]>=nums2[pos[1]]:\n",
    "                out = [1,nums2[pos[1]]]\n",
    "            else:\n",
    "                out = [0,nums1[pos[0]]]\n",
    "            print(\"out\",out)\n",
    "            if temp[1]>=out[1]:\n",
    "                nums1[i] = out[1]\n",
    "                pos[out[0]] += 1\n",
    "            elif temp[1]<=out[1]:\n",
    "                nums1[i] = temp[1]\n",
    "                pos[temp[0]] += 1  \n",
    "                temp = out   \n",
    "            print(\"temp\",temp)\n",
    "            print(\"pos\",pos)\n",
    "                \n",
    "solution = Solution()\n",
    "nums1 = [1,2,3,0,0,0]\n",
    "m = 3\n",
    "nums2 = [2,5,6]\n",
    "n = 3\n",
    "solution.merge(nums1,m,nums2,n)\n",
    "                "
   ]
  },
  {
   "cell_type": "code",
   "execution_count": 82,
   "metadata": {},
   "outputs": [],
   "source": [
    "\n",
    "class Solution:\n",
    "    # 注意下str的用法，s.lower()需要返回值，s.reverse(),s.sort()则不需要\n",
    "    def isPalindrome(self, s: str) -> bool:\n",
    "        import re\n",
    "        s = re.sub(r'[^A-Za-z]','',s).lower()\n",
    "        s_r = s[::-1]\n",
    "        if s == s_r:\n",
    "            return True\n",
    "        else:\n",
    "            return False\n",
    "solution = Solution()\n",
    "solution.isPalindrome(\"OP\")"
   ]
  },
  {
   "cell_type": "code",
   "execution_count": 83,
   "metadata": {},
   "outputs": [
    {
     "data": {
      "text/plain": [
       "''"
      ]
     },
     "execution_count": 83,
     "metadata": {},
     "output_type": "execute_result"
    }
   ],
   "source": [
    "s_r"
   ]
  },
  {
   "cell_type": "code",
   "execution_count": 85,
   "metadata": {},
   "outputs": [
    {
     "data": {
      "text/plain": [
       "False"
      ]
     },
     "execution_count": 85,
     "metadata": {},
     "output_type": "execute_result"
    }
   ],
   "source": [
    "i=0\n",
    "i not in [0,2,3,4,5]\n"
   ]
  },
  {
   "cell_type": "code",
   "execution_count": null,
   "metadata": {},
   "outputs": [],
   "source": [
    "    def inorderTraversal(self, root: Optional[TreeNode]) -> List[int]:\n",
    "        if not root:return []\n",
    "        res=[]\n",
    "        self.midread(root, res)\n",
    "        return res\n",
    "\n",
    "    def midread(self,root,res):\n",
    "        if not root:return \n",
    "        if root:\n",
    "            self.midread(root.left,res)\n",
    "            res.append(root.val)\n",
    "            self.midread(root.right,res)"
   ]
  },
  {
   "cell_type": "code",
   "execution_count": null,
   "metadata": {},
   "outputs": [],
   "source": [
    "# Definition for singly-linked list.\n",
    "# class ListNode:\n",
    "#     def __init__(self, val=0, next=None):\n",
    "#         self.val = val\n",
    "#         self.next = next\n",
    "class Solution:\n",
    "    def deleteDuplicates(self, head: Optional[ListNode]) -> Optional[ListNode]:\n",
    "        cur = head\n",
    "        while cur.next and cur:\n",
    "            if cur.val == cur.next.val:\n",
    "                cur.next = cur.next.next\n",
    "            else:\n",
    "                cur = cur.next\n",
    "        return head"
   ]
  },
  {
   "cell_type": "code",
   "execution_count": null,
   "metadata": {},
   "outputs": [],
   "source": [
    "class Solution:\n",
    "    def inorderTraversal(self, root: Optional[TreeNode]) -> List[int]:\n",
    "        stack = [(0,root)]\n",
    "        res = []\n",
    "        while stack:\n",
    "            flag, node = stack.pop()\n",
    "            if node is None:\n",
    "                continue\n",
    "            if flag == 0:\n",
    "                stack.append((0,node.right))\n",
    "                stack.append((1,node))\n",
    "                stack.append((0,node.left))\n",
    "            else:\n",
    "                res.append(node.val)\n",
    "        return res"
   ]
  },
  {
   "cell_type": "code",
   "execution_count": 86,
   "metadata": {},
   "outputs": [
    {
     "ename": "TypeError",
     "evalue": "'TreeNode' object is not callable",
     "output_type": "error",
     "traceback": [
      "\u001b[1;31m---------------------------------------------------------------------------\u001b[0m",
      "\u001b[1;31mTypeError\u001b[0m                                 Traceback (most recent call last)",
      "Cell \u001b[1;32mIn[86], line 33\u001b[0m\n\u001b[0;32m     31\u001b[0m treenode \u001b[38;5;241m=\u001b[39m TreeNode()\n\u001b[0;32m     32\u001b[0m solution \u001b[38;5;241m=\u001b[39m Solution()\n\u001b[1;32m---> 33\u001b[0m p \u001b[38;5;241m=\u001b[39m \u001b[43mtreenode\u001b[49m\u001b[43m(\u001b[49m\u001b[43m[\u001b[49m\u001b[38;5;241;43m1\u001b[39;49m\u001b[43m,\u001b[49m\u001b[38;5;241;43m2\u001b[39;49m\u001b[43m,\u001b[49m\u001b[38;5;241;43m3\u001b[39;49m\u001b[43m]\u001b[49m\u001b[43m)\u001b[49m\n\u001b[0;32m     34\u001b[0m q \u001b[38;5;241m=\u001b[39m treenode([\u001b[38;5;241m1\u001b[39m,\u001b[38;5;241m2\u001b[39m,\u001b[38;5;241m3\u001b[39m])\n\u001b[0;32m     35\u001b[0m solution\u001b[38;5;241m.\u001b[39misSameTree(p,q)\n",
      "\u001b[1;31mTypeError\u001b[0m: 'TreeNode' object is not callable"
     ]
    }
   ],
   "source": [
    "# Definition for a binary tree node.\n",
    "class TreeNode:\n",
    "    def __init__(self, val=0, left=None, right=None):\n",
    "        self.val = val\n",
    "        self.left = left\n",
    "        self.right = right\n",
    "\n",
    "class Solution:\n",
    "    def isSameTree(self, p, q) -> bool:\n",
    "        stack1 = [(0,p)]\n",
    "        stack2 = [(0,q)]\n",
    "        while stack1 and stack2:\n",
    "            flag1, node1 = stack1.pop()\n",
    "            flag2, node2 = stack2.pop()\n",
    "            if node1 is None and node2 is None:\n",
    "                continue\n",
    "            elif (node1 is None) and (node2 is not None):\n",
    "                return False\n",
    "            elif (node2 is None) and (node1 is not None):\n",
    "                return False\n",
    "            if flag1 == 0 and flag2 == 0:\n",
    "                stack1.append((0,node1.left))\n",
    "                stack1.append((1,node1))\n",
    "                stack1.append((0,node1.right))\n",
    "                stack2.append((0,node2.left))\n",
    "                stack2.append((1,node2))\n",
    "                stack2.append((0,node2.right))\n",
    "            elif node1.val != node2.val:\n",
    "                return False\n",
    "        return True\n",
    "treenode = TreeNode()\n",
    "solution = Solution()\n",
    "p = treenode([1,2,3])\n",
    "q = treenode([1,2,3])\n",
    "solution.isSameTree(p,q)"
   ]
  },
  {
   "cell_type": "code",
   "execution_count": 91,
   "metadata": {},
   "outputs": [],
   "source": [
    "dic = {1:3}\n",
    "dic[1] += 1"
   ]
  },
  {
   "cell_type": "code",
   "execution_count": 93,
   "metadata": {},
   "outputs": [],
   "source": [
    "dic[2] = 0"
   ]
  },
  {
   "cell_type": "code",
   "execution_count": 94,
   "metadata": {},
   "outputs": [
    {
     "data": {
      "text/plain": [
       "{1: 4, 2: 0}"
      ]
     },
     "execution_count": 94,
     "metadata": {},
     "output_type": "execute_result"
    }
   ],
   "source": [
    "dic"
   ]
  },
  {
   "cell_type": "code",
   "execution_count": 96,
   "metadata": {},
   "outputs": [
    {
     "data": {
      "text/plain": [
       "dict_items([(1, 4), (2, 0)])"
      ]
     },
     "execution_count": 96,
     "metadata": {},
     "output_type": "execute_result"
    }
   ],
   "source": [
    "key, value in dic.items()"
   ]
  },
  {
   "cell_type": "code",
   "execution_count": 109,
   "metadata": {},
   "outputs": [],
   "source": [
    "lst = list(dic.items())"
   ]
  },
  {
   "cell_type": "code",
   "execution_count": 114,
   "metadata": {},
   "outputs": [
    {
     "ename": "TypeError",
     "evalue": "list indices must be integers or slices, not tuple",
     "output_type": "error",
     "traceback": [
      "\u001b[1;31m---------------------------------------------------------------------------\u001b[0m",
      "\u001b[1;31mTypeError\u001b[0m                                 Traceback (most recent call last)",
      "Cell \u001b[1;32mIn[114], line 1\u001b[0m\n\u001b[1;32m----> 1\u001b[0m \u001b[43mlst\u001b[49m\u001b[43m[\u001b[49m\u001b[43m:\u001b[49m\u001b[43m,\u001b[49m\u001b[38;5;241;43m1\u001b[39;49m\u001b[43m]\u001b[49m\n",
      "\u001b[1;31mTypeError\u001b[0m: list indices must be integers or slices, not tuple"
     ]
    }
   ],
   "source": [
    "lst[:,1]"
   ]
  },
  {
   "cell_type": "code",
   "execution_count": 115,
   "metadata": {},
   "outputs": [
    {
     "data": {
      "text/plain": [
       "['s', 'd', 's', 'd', 'a', 'd', 'a', 's', 'd']"
      ]
     },
     "execution_count": 115,
     "metadata": {},
     "output_type": "execute_result"
    }
   ],
   "source": [
    "s = 'sdsdadasd'\n",
    "[ele for ele in s]"
   ]
  },
  {
   "cell_type": "code",
   "execution_count": 119,
   "metadata": {},
   "outputs": [
    {
     "data": {
      "text/plain": [
       "{('a', 'a'), ('d', 'd'), ('d', 's'), ('s', 's')}"
      ]
     },
     "execution_count": 119,
     "metadata": {},
     "output_type": "execute_result"
    }
   ],
   "source": [
    "s = 'sdsdadasd'\n",
    "t = 'sdssad'\n",
    "set(zip(s,t))"
   ]
  },
  {
   "cell_type": "code",
   "execution_count": null,
   "metadata": {},
   "outputs": [],
   "source": []
  }
 ],
 "metadata": {
  "kernelspec": {
   "display_name": "base",
   "language": "python",
   "name": "python3"
  },
  "language_info": {
   "codemirror_mode": {
    "name": "ipython",
    "version": 3
   },
   "file_extension": ".py",
   "mimetype": "text/x-python",
   "name": "python",
   "nbconvert_exporter": "python",
   "pygments_lexer": "ipython3",
   "version": "3.10.9"
  }
 },
 "nbformat": 4,
 "nbformat_minor": 2
}
